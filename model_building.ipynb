{
 "cells": [
  {
   "cell_type": "code",
   "execution_count": 293,
   "metadata": {},
}
   ],
   "source": [
    "# Get helper_functions.py script from course GitHub\n",
    "!wget https://raw.githubusercontent.com/mrdbourke/tensorflow-deep-learning/main/extras/helper_functions.py \n",
    "\n",
    "# Import helper functions we're going to use\n",
    "from helper_functions import create_tensorboard_callback, plot_loss_curves, unzip_data, walk_through_dir"
   ]
  },
  {
   "cell_type": "code",
   "execution_count": 330,
   "metadata": {},
   "outputs": [
    {
     "data": {
      "text/html": [
       "Finishing last run (ID:3ej0d6cu) before initializing another..."
      ],
      "text/plain": [
       "<IPython.core.display.HTML object>"
      ]
     },
     "metadata": {},
     "output_type": "display_data"
    },
    {
     "data": {
      "text/html": [
       "Successfully finished last run (ID:3ej0d6cu). Initializing new run:<br/>"
      ],
      "text/plain": [
       "<IPython.core.display.HTML object>"
      ]
     },
     "metadata": {},
     "output_type": "display_data"
    },
    {
     "data": {
      "text/html": [
       "\n",
       "                    Syncing run <strong><a href=\"https://wandb.ai/parthamehta/food-not-food-fullstack-ml-app/runs/1kqi4vb3\" target=\"_blank\">usual-violet-13</a></strong> to <a href=\"https://wandb.ai/parthamehta/food-not-food-fullstack-ml-app\" target=\"_blank\">Weights & Biases</a> (<a href=\"https://docs.wandb.com/integrations/jupyter.html\" target=\"_blank\">docs</a>).<br/>\n",
       "\n",
       "                "
      ],
      "text/plain": [
       "<IPython.core.display.HTML object>"
      ]
     },
     "metadata": {},
     "output_type": "display_data"
    },
    {
     "data": {
      "text/html": [
       "<button onClick=\"this.nextSibling.style.display='block';this.style.display='none';\">Display W&B run</button><iframe src=\"https://wandb.ai/parthamehta/food-not-food-fullstack-ml-app/runs/1kqi4vb3?jupyter=true\" style=\"border:none;width:100%;height:420px;display:none;\"></iframe>"
      ],
      "text/plain": [
       "<wandb.sdk.wandb_run.Run at 0x7fe004fcde80>"
      ]
     },
     "execution_count": 330,
     "metadata": {},
     "output_type": "execute_result"
    }
   ],
   "source": [
    "import wandb\n",
    "# wandb.tensorboard.patch(root_logdir=\"logs/\")\n",
    "wandb.init(project=\"food-not-food-fullstack-ml-app\", entity=\"parthamehta\", sync_tensorboard=True)"
   ]
  },
  {
   "cell_type": "code",
   "execution_count": 295,
   "metadata": {},
   "outputs": [],
   "source": [
    "import tensorflow as tf"
   ]
  },
  {
   "cell_type": "code",
   "execution_count": 296,
   "metadata": {},
   "outputs": [
    {
     "data": {
      "text/plain": [
       "[PhysicalDevice(name='/physical_device:CPU:0', device_type='CPU')]"
      ]
     },
     "execution_count": 296,
     "metadata": {},
     "output_type": "execute_result"
    }
   ],
   "source": [
    "tf.config.list_physical_devices()"
   ]
  },
  {
   "cell_type": "code",
   "execution_count": 297,
   "metadata": {},
   "outputs": [
    {
     "name": "stdout",
     "output_type": "stream",
     "text": [
      "\u001b[34maircraft\u001b[m\u001b[m \u001b[34manvil\u001b[m\u001b[m    \u001b[34mtest\u001b[m\u001b[m     \u001b[34mtrain\u001b[m\u001b[m\n"
     ]
    }
   ],
   "source": [
    "!ls data/model_test_images/"
   ]
  },
  {
   "cell_type": "markdown",
   "metadata": {},
   "source": [
    "## Create train/test"
   ]
  },
  {
   "cell_type": "code",
   "execution_count": 298,
   "metadata": {},
   "outputs": [
    {
     "name": "stdout",
     "output_type": "stream",
     "text": [
      "mkdir: data/model_test_images/train: File exists\n",
      "mkdir: data/model_test_images/test: File exists\n"
     ]
    }
   ],
   "source": [
    "!mkdir data/model_test_images/train\n",
    "!mkdir data/model_test_images/test"
   ]
  },
  {
   "cell_type": "code",
   "execution_count": 299,
   "metadata": {},
   "outputs": [],
   "source": [
    "# Make splits of images\n",
    "import random"
   ]
  },
  {
   "cell_type": "code",
   "execution_count": 300,
   "metadata": {},
   "outputs": [
    {
     "name": "stdout",
     "output_type": "stream",
     "text": [
      "data/model_test_images/\n",
      "['aircraft', 'test', 'train', 'anvil']\n",
      "[]\n",
      "data/model_test_images/aircraft\n",
      "[]\n",
      "['2542540945_2c8132840d.jpg', '1426491237_07becebd6c.jpg', '1741176353_0b94141514.jpg', '161310937_ec0d9ee7f0.jpg', '1255238235_d09091b8b2.jpg', '49517128_dbfd6ca176.jpg', '2198383298_746951ac64.jpg', '2197596561_e90743ed05.jpg', '473919967_67f5d208ef.jpg', '375843063_871a7a6459.jpg', '1171097807_dc33da63c9.jpg', '2257546470_c70143c0a5.jpg', '2694271500_950340d61f.jpg', '2453145003_f03c80cccb.jpg', '2542501551_9a9dd54811.jpg', '2542525745_168ff9246b.jpg', '2110236460_5733f6e1be.jpg', '1862453011_f8ab0e5fc0.jpg', '2542538183_828626940e.jpg', '210951727_1259b98413.jpg', '2693457135_887e1bca43.jpg', '1116561824_bd996e2a6e.jpg', '1715062941_29085b27d4.jpg', '2393193881_f53fdc9593.jpg', '986844513_6e4e499659.jpg', '2423470681_9e335f9452.jpg', '2198384480_ecaaf216b3.jpg', '108928477_9d0370f712.jpg', '1204109417_1da972f127.jpg', '1204827293_4f11b976c1.jpg', '1171059083_4fe67268da.jpg', '178564592_082dd3ebb1.jpg', '367863038_12d6abe51d.jpg', '289331014_045ea7a79c.jpg', '2543367588_89aa06f111.jpg', '261275907_01bade9983.jpg', '417566635_abe4a920b5.jpg', '2257931091_50813bbbd0.jpg', '1620665374_95c7f0a16e.jpg', '2350588422_bb936f3ae2.jpg', '1255244869_4b1ba187d6.jpg', '1171082055_fac08843e4.jpg', '2543374132_b5998767aa.jpg', '2367391512_9dc00fcaa7.jpg', '399456498_e98b61e031.jpg', '2056631066_e95c92999e.jpg', '432744416_4958c47494.jpg', '1715058287_47c536d2d8.jpg', '1170999037_018ad7f464.jpg', '1171061063_3c804dc3ab.jpg']\n",
      "data/model_test_images/test\n",
      "[]\n",
      "[]\n",
      "data/model_test_images/train\n",
      "[]\n",
      "[]\n",
      "data/model_test_images/anvil\n",
      "[]\n",
      "['1685224938_22ef3ed143.jpg', '2778636595_1302276129.jpg', '538892640_7abb612b68.jpg', '3050858024_489c44b578.jpg', '3402428238_130149e13f.jpg', '2041031103_25906d861e.jpg', '2765485150_787ea042e1.jpg', '3321337159_de560b7d86.jpg', '2869155460_ebaf708e05.jpg', '73574493_4f91b7dff6.jpg', '4014498287_5233704eed.jpg', '2688352675_773e74672f.jpg', '4351966670_af07ca701c.jpg', '2226730158_7968f2b239.jpg', '1464389357_01db275586.jpg', '4388451586_f8934b2525.jpg', '2069586554_8ae6c5fc09.jpg', '4367666033_1597eee3b3.jpg', '153584514_dc55440503.jpg', '90659615_70a0040893.jpg', '2653043238_ab3fb1ab4b.jpg', '3645593933_5a8e7e21b9.jpg', '3537119187_df9c44bd4a.jpg', '1352607644_67160c3519.jpg', '2205263725_42f1679502.jpg', '3209446309_36955f4185.jpg', '3415989650_e35121d39f.jpg', '4269925415_0ed3db3e8a.jpg', '1807878315_a8df265920.jpg', '92992402_6991cf79f6.jpg', '3867602114_8ba41b2b37.jpg', '4218281819_de2945013f.jpg', '1761887710_b848e69ca0.jpg', '539009801_403f543d10.jpg', '1927370243_95da31ab75.jpg', '4391092884_447bf48519.jpg', '2976981773_eca0938f44.jpg', '4434981387_b97f308b38.jpg', '1114969084_812849be3c.jpg', '2190538359_58be175358.jpg', '172718273_d721cf4c9b.jpg', '3486303210_e2885b5c2a.jpg', '4112331467_7e4b4fe4d7.jpg', '3536490876_c32efa76e7.jpg', '3439372727_6a1192fb5f.jpg', '3470217641_7198ce17f0.jpg', '3234513465_0bd70c8849.jpg', '3251790162_6dfc166898.jpg', '2680379787_232709eb59.jpg', '4434981477_8bd4bdd4c0.jpg']\n"
     ]
    }
   ],
   "source": [
    "import os\n",
    "for dirs, sub_dirs, files in os.walk(\"data/model_test_images/\"):\n",
    "  print(dirs)\n",
    "  print(sub_dirs)\n",
    "  print(files)"
   ]
  },
  {
   "cell_type": "code",
   "execution_count": 301,
   "metadata": {},
   "outputs": [
    {
     "data": {
      "text/plain": [
       "['aircraft', 'test', 'train', 'anvil']"
      ]
     },
     "execution_count": 301,
     "metadata": {},
     "output_type": "execute_result"
    }
   ],
   "source": [
    "target_dirs = os.listdir(\"data/model_test_images\")\n",
    "target_dirs"
   ]
  },
  {
   "cell_type": "code",
   "execution_count": 302,
   "metadata": {},
   "outputs": [
    {
     "data": {
      "text/plain": [
       "(40, 10)"
      ]
     },
     "execution_count": 302,
     "metadata": {},
     "output_type": "execute_result"
    }
   ],
   "source": [
    "import random\n",
    "\n",
    "def create_train_test_list(target_dir):\n",
    "  random.seed(42)\n",
    "  image_list = [os.path.join(target_dir, img_path) for img_path in os.listdir(target_dir)]\n",
    "  train_split = int(0.8*len(image_list))\n",
    "  train_image_list = random.sample(image_list, train_split)\n",
    "  test_image_list = list(set(image_list).difference(set(train_image_list)))\n",
    "  return train_image_list, test_image_list\n",
    "\n",
    "train_image_list, test_image_list = create_train_test_list(\"data/model_test_images/aircraft\")\n",
    "len(train_image_list), len(test_image_list)"
   ]
  },
  {
   "cell_type": "code",
   "execution_count": 303,
   "metadata": {},
   "outputs": [],
   "source": [
    "def copy_images_to_file(img_path_list, target_dir, train=True):\n",
    "    if train:\n",
    "      split_dir = \"train\"\n",
    "    else:\n",
    "      split_dir = \"test\"\n",
    "\n",
    "    # Copy images\n",
    "    for image_path in img_path_list:\n",
    "      image_file_name = os.path.split(image_path)[-1]\n",
    "      dest_path = os.path.join(target_dir, split_dir, image_dir, image_file_name)\n",
    "      print(f\"Copying: {image_path} to {dest_path}\")\n",
    "      copy2(image_path, dest_path)"
   ]
  },
  {
   "cell_type": "code",
   "execution_count": 304,
   "metadata": {},
   "outputs": [
    {
     "name": "stdout",
     "output_type": "stream",
     "text": [
      "Copying: data/model_test_images/aircraft/1255244869_4b1ba187d6.jpg to data/model_test_images_split/train/aircraft/1255244869_4b1ba187d6.jpg\n",
      "Copying: data/model_test_images/aircraft/2197596561_e90743ed05.jpg to data/model_test_images_split/train/aircraft/2197596561_e90743ed05.jpg\n",
      "Copying: data/model_test_images/aircraft/1426491237_07becebd6c.jpg to data/model_test_images_split/train/aircraft/1426491237_07becebd6c.jpg\n",
      "Copying: data/model_test_images/aircraft/1862453011_f8ab0e5fc0.jpg to data/model_test_images_split/train/aircraft/1862453011_f8ab0e5fc0.jpg\n",
      "Copying: data/model_test_images/aircraft/2542525745_168ff9246b.jpg to data/model_test_images_split/train/aircraft/2542525745_168ff9246b.jpg\n",
      "Copying: data/model_test_images/aircraft/2542501551_9a9dd54811.jpg to data/model_test_images_split/train/aircraft/2542501551_9a9dd54811.jpg\n",
      "Copying: data/model_test_images/aircraft/473919967_67f5d208ef.jpg to data/model_test_images_split/train/aircraft/473919967_67f5d208ef.jpg\n",
      "Copying: data/model_test_images/aircraft/2198383298_746951ac64.jpg to data/model_test_images_split/train/aircraft/2198383298_746951ac64.jpg\n",
      "Copying: data/model_test_images/aircraft/2543367588_89aa06f111.jpg to data/model_test_images_split/train/aircraft/2543367588_89aa06f111.jpg\n",
      "Copying: data/model_test_images/aircraft/49517128_dbfd6ca176.jpg to data/model_test_images_split/train/aircraft/49517128_dbfd6ca176.jpg\n",
      "Copying: data/model_test_images/aircraft/2257931091_50813bbbd0.jpg to data/model_test_images_split/train/aircraft/2257931091_50813bbbd0.jpg\n",
      "Copying: data/model_test_images/aircraft/108928477_9d0370f712.jpg to data/model_test_images_split/train/aircraft/108928477_9d0370f712.jpg\n",
      "Copying: data/model_test_images/aircraft/1741176353_0b94141514.jpg to data/model_test_images_split/train/aircraft/1741176353_0b94141514.jpg\n",
      "Copying: data/model_test_images/aircraft/1715058287_47c536d2d8.jpg to data/model_test_images_split/train/aircraft/1715058287_47c536d2d8.jpg\n",
      "Copying: data/model_test_images/aircraft/1171061063_3c804dc3ab.jpg to data/model_test_images_split/train/aircraft/1171061063_3c804dc3ab.jpg\n",
      "Copying: data/model_test_images/aircraft/2453145003_f03c80cccb.jpg to data/model_test_images_split/train/aircraft/2453145003_f03c80cccb.jpg\n",
      "Copying: data/model_test_images/aircraft/399456498_e98b61e031.jpg to data/model_test_images_split/train/aircraft/399456498_e98b61e031.jpg\n",
      "Copying: data/model_test_images/aircraft/367863038_12d6abe51d.jpg to data/model_test_images_split/train/aircraft/367863038_12d6abe51d.jpg\n",
      "Copying: data/model_test_images/aircraft/417566635_abe4a920b5.jpg to data/model_test_images_split/train/aircraft/417566635_abe4a920b5.jpg\n",
      "Copying: data/model_test_images/aircraft/432744416_4958c47494.jpg to data/model_test_images_split/train/aircraft/432744416_4958c47494.jpg\n",
      "Copying: data/model_test_images/aircraft/2543374132_b5998767aa.jpg to data/model_test_images_split/train/aircraft/2543374132_b5998767aa.jpg\n",
      "Copying: data/model_test_images/aircraft/1715062941_29085b27d4.jpg to data/model_test_images_split/train/aircraft/1715062941_29085b27d4.jpg\n",
      "Copying: data/model_test_images/aircraft/2693457135_887e1bca43.jpg to data/model_test_images_split/train/aircraft/2693457135_887e1bca43.jpg\n",
      "Copying: data/model_test_images/aircraft/1204109417_1da972f127.jpg to data/model_test_images_split/train/aircraft/1204109417_1da972f127.jpg\n",
      "Copying: data/model_test_images/aircraft/1171059083_4fe67268da.jpg to data/model_test_images_split/train/aircraft/1171059083_4fe67268da.jpg\n",
      "Copying: data/model_test_images/aircraft/1171082055_fac08843e4.jpg to data/model_test_images_split/train/aircraft/1171082055_fac08843e4.jpg\n",
      "Copying: data/model_test_images/aircraft/1170999037_018ad7f464.jpg to data/model_test_images_split/train/aircraft/1170999037_018ad7f464.jpg\n",
      "Copying: data/model_test_images/aircraft/289331014_045ea7a79c.jpg to data/model_test_images_split/train/aircraft/289331014_045ea7a79c.jpg\n",
      "Copying: data/model_test_images/aircraft/2542538183_828626940e.jpg to data/model_test_images_split/train/aircraft/2542538183_828626940e.jpg\n",
      "Copying: data/model_test_images/aircraft/2367391512_9dc00fcaa7.jpg to data/model_test_images_split/train/aircraft/2367391512_9dc00fcaa7.jpg\n",
      "Copying: data/model_test_images/aircraft/2542540945_2c8132840d.jpg to data/model_test_images_split/train/aircraft/2542540945_2c8132840d.jpg\n",
      "Copying: data/model_test_images/aircraft/261275907_01bade9983.jpg to data/model_test_images_split/train/aircraft/261275907_01bade9983.jpg\n",
      "Copying: data/model_test_images/aircraft/986844513_6e4e499659.jpg to data/model_test_images_split/train/aircraft/986844513_6e4e499659.jpg\n",
      "Copying: data/model_test_images/aircraft/1171097807_dc33da63c9.jpg to data/model_test_images_split/train/aircraft/1171097807_dc33da63c9.jpg\n",
      "Copying: data/model_test_images/aircraft/1620665374_95c7f0a16e.jpg to data/model_test_images_split/train/aircraft/1620665374_95c7f0a16e.jpg\n",
      "Copying: data/model_test_images/aircraft/2350588422_bb936f3ae2.jpg to data/model_test_images_split/train/aircraft/2350588422_bb936f3ae2.jpg\n",
      "Copying: data/model_test_images/aircraft/161310937_ec0d9ee7f0.jpg to data/model_test_images_split/train/aircraft/161310937_ec0d9ee7f0.jpg\n",
      "Copying: data/model_test_images/aircraft/2694271500_950340d61f.jpg to data/model_test_images_split/train/aircraft/2694271500_950340d61f.jpg\n",
      "Copying: data/model_test_images/aircraft/1116561824_bd996e2a6e.jpg to data/model_test_images_split/train/aircraft/1116561824_bd996e2a6e.jpg\n",
      "Copying: data/model_test_images/aircraft/178564592_082dd3ebb1.jpg to data/model_test_images_split/train/aircraft/178564592_082dd3ebb1.jpg\n",
      "Copying: data/model_test_images/aircraft/375843063_871a7a6459.jpg to data/model_test_images_split/test/aircraft/375843063_871a7a6459.jpg\n",
      "Copying: data/model_test_images/aircraft/2257546470_c70143c0a5.jpg to data/model_test_images_split/test/aircraft/2257546470_c70143c0a5.jpg\n",
      "Copying: data/model_test_images/aircraft/1255238235_d09091b8b2.jpg to data/model_test_images_split/test/aircraft/1255238235_d09091b8b2.jpg\n",
      "Copying: data/model_test_images/aircraft/2423470681_9e335f9452.jpg to data/model_test_images_split/test/aircraft/2423470681_9e335f9452.jpg\n",
      "Copying: data/model_test_images/aircraft/2198384480_ecaaf216b3.jpg to data/model_test_images_split/test/aircraft/2198384480_ecaaf216b3.jpg\n",
      "Copying: data/model_test_images/aircraft/2110236460_5733f6e1be.jpg to data/model_test_images_split/test/aircraft/2110236460_5733f6e1be.jpg\n",
      "Copying: data/model_test_images/aircraft/2056631066_e95c92999e.jpg to data/model_test_images_split/test/aircraft/2056631066_e95c92999e.jpg\n",
      "Copying: data/model_test_images/aircraft/2393193881_f53fdc9593.jpg to data/model_test_images_split/test/aircraft/2393193881_f53fdc9593.jpg\n",
      "Copying: data/model_test_images/aircraft/1204827293_4f11b976c1.jpg to data/model_test_images_split/test/aircraft/1204827293_4f11b976c1.jpg\n",
      "Copying: data/model_test_images/aircraft/210951727_1259b98413.jpg to data/model_test_images_split/test/aircraft/210951727_1259b98413.jpg\n",
      "Copying: data/model_test_images/anvil/172718273_d721cf4c9b.jpg to data/model_test_images_split/train/anvil/172718273_d721cf4c9b.jpg\n",
      "Copying: data/model_test_images/anvil/3321337159_de560b7d86.jpg to data/model_test_images_split/train/anvil/3321337159_de560b7d86.jpg\n",
      "Copying: data/model_test_images/anvil/2778636595_1302276129.jpg to data/model_test_images_split/train/anvil/2778636595_1302276129.jpg\n",
      "Copying: data/model_test_images/anvil/4367666033_1597eee3b3.jpg to data/model_test_images_split/train/anvil/4367666033_1597eee3b3.jpg\n",
      "Copying: data/model_test_images/anvil/4388451586_f8934b2525.jpg to data/model_test_images_split/train/anvil/4388451586_f8934b2525.jpg\n",
      "Copying: data/model_test_images/anvil/1464389357_01db275586.jpg to data/model_test_images_split/train/anvil/1464389357_01db275586.jpg\n",
      "Copying: data/model_test_images/anvil/2869155460_ebaf708e05.jpg to data/model_test_images_split/train/anvil/2869155460_ebaf708e05.jpg\n",
      "Copying: data/model_test_images/anvil/2765485150_787ea042e1.jpg to data/model_test_images_split/train/anvil/2765485150_787ea042e1.jpg\n",
      "Copying: data/model_test_images/anvil/1927370243_95da31ab75.jpg to data/model_test_images_split/train/anvil/1927370243_95da31ab75.jpg\n",
      "Copying: data/model_test_images/anvil/2041031103_25906d861e.jpg to data/model_test_images_split/train/anvil/2041031103_25906d861e.jpg\n",
      "Copying: data/model_test_images/anvil/4434981387_b97f308b38.jpg to data/model_test_images_split/train/anvil/4434981387_b97f308b38.jpg\n",
      "Copying: data/model_test_images/anvil/4269925415_0ed3db3e8a.jpg to data/model_test_images_split/train/anvil/4269925415_0ed3db3e8a.jpg\n",
      "Copying: data/model_test_images/anvil/538892640_7abb612b68.jpg to data/model_test_images_split/train/anvil/538892640_7abb612b68.jpg\n",
      "Copying: data/model_test_images/anvil/3251790162_6dfc166898.jpg to data/model_test_images_split/train/anvil/3251790162_6dfc166898.jpg\n",
      "Copying: data/model_test_images/anvil/4434981477_8bd4bdd4c0.jpg to data/model_test_images_split/train/anvil/4434981477_8bd4bdd4c0.jpg\n",
      "Copying: data/model_test_images/anvil/2226730158_7968f2b239.jpg to data/model_test_images_split/train/anvil/2226730158_7968f2b239.jpg\n",
      "Copying: data/model_test_images/anvil/3439372727_6a1192fb5f.jpg to data/model_test_images_split/train/anvil/3439372727_6a1192fb5f.jpg\n",
      "Copying: data/model_test_images/anvil/1761887710_b848e69ca0.jpg to data/model_test_images_split/train/anvil/1761887710_b848e69ca0.jpg\n",
      "Copying: data/model_test_images/anvil/2976981773_eca0938f44.jpg to data/model_test_images_split/train/anvil/2976981773_eca0938f44.jpg\n",
      "Copying: data/model_test_images/anvil/3234513465_0bd70c8849.jpg to data/model_test_images_split/train/anvil/3234513465_0bd70c8849.jpg\n",
      "Copying: data/model_test_images/anvil/4112331467_7e4b4fe4d7.jpg to data/model_test_images_split/train/anvil/4112331467_7e4b4fe4d7.jpg\n",
      "Copying: data/model_test_images/anvil/3537119187_df9c44bd4a.jpg to data/model_test_images_split/train/anvil/3537119187_df9c44bd4a.jpg\n",
      "Copying: data/model_test_images/anvil/2653043238_ab3fb1ab4b.jpg to data/model_test_images_split/train/anvil/2653043238_ab3fb1ab4b.jpg\n",
      "Copying: data/model_test_images/anvil/1807878315_a8df265920.jpg to data/model_test_images_split/train/anvil/1807878315_a8df265920.jpg\n",
      "Copying: data/model_test_images/anvil/3867602114_8ba41b2b37.jpg to data/model_test_images_split/train/anvil/3867602114_8ba41b2b37.jpg\n",
      "Copying: data/model_test_images/anvil/3486303210_e2885b5c2a.jpg to data/model_test_images_split/train/anvil/3486303210_e2885b5c2a.jpg\n",
      "Copying: data/model_test_images/anvil/2680379787_232709eb59.jpg to data/model_test_images_split/train/anvil/2680379787_232709eb59.jpg\n",
      "Copying: data/model_test_images/anvil/539009801_403f543d10.jpg to data/model_test_images_split/train/anvil/539009801_403f543d10.jpg\n",
      "Copying: data/model_test_images/anvil/153584514_dc55440503.jpg to data/model_test_images_split/train/anvil/153584514_dc55440503.jpg\n",
      "Copying: data/model_test_images/anvil/3536490876_c32efa76e7.jpg to data/model_test_images_split/train/anvil/3536490876_c32efa76e7.jpg\n",
      "Copying: data/model_test_images/anvil/1685224938_22ef3ed143.jpg to data/model_test_images_split/train/anvil/1685224938_22ef3ed143.jpg\n",
      "Copying: data/model_test_images/anvil/4391092884_447bf48519.jpg to data/model_test_images_split/train/anvil/4391092884_447bf48519.jpg\n",
      "Copying: data/model_test_images/anvil/2205263725_42f1679502.jpg to data/model_test_images_split/train/anvil/2205263725_42f1679502.jpg\n",
      "Copying: data/model_test_images/anvil/4014498287_5233704eed.jpg to data/model_test_images_split/train/anvil/4014498287_5233704eed.jpg\n",
      "Copying: data/model_test_images/anvil/1114969084_812849be3c.jpg to data/model_test_images_split/train/anvil/1114969084_812849be3c.jpg\n",
      "Copying: data/model_test_images/anvil/2190538359_58be175358.jpg to data/model_test_images_split/train/anvil/2190538359_58be175358.jpg\n",
      "Copying: data/model_test_images/anvil/3050858024_489c44b578.jpg to data/model_test_images_split/train/anvil/3050858024_489c44b578.jpg\n",
      "Copying: data/model_test_images/anvil/4351966670_af07ca701c.jpg to data/model_test_images_split/train/anvil/4351966670_af07ca701c.jpg\n",
      "Copying: data/model_test_images/anvil/3645593933_5a8e7e21b9.jpg to data/model_test_images_split/train/anvil/3645593933_5a8e7e21b9.jpg\n",
      "Copying: data/model_test_images/anvil/4218281819_de2945013f.jpg to data/model_test_images_split/train/anvil/4218281819_de2945013f.jpg\n",
      "Copying: data/model_test_images/anvil/3470217641_7198ce17f0.jpg to data/model_test_images_split/test/anvil/3470217641_7198ce17f0.jpg\n",
      "Copying: data/model_test_images/anvil/1352607644_67160c3519.jpg to data/model_test_images_split/test/anvil/1352607644_67160c3519.jpg\n",
      "Copying: data/model_test_images/anvil/3209446309_36955f4185.jpg to data/model_test_images_split/test/anvil/3209446309_36955f4185.jpg\n",
      "Copying: data/model_test_images/anvil/2069586554_8ae6c5fc09.jpg to data/model_test_images_split/test/anvil/2069586554_8ae6c5fc09.jpg\n",
      "Copying: data/model_test_images/anvil/3415989650_e35121d39f.jpg to data/model_test_images_split/test/anvil/3415989650_e35121d39f.jpg\n",
      "Copying: data/model_test_images/anvil/92992402_6991cf79f6.jpg to data/model_test_images_split/test/anvil/92992402_6991cf79f6.jpg\n",
      "Copying: data/model_test_images/anvil/73574493_4f91b7dff6.jpg to data/model_test_images_split/test/anvil/73574493_4f91b7dff6.jpg\n",
      "Copying: data/model_test_images/anvil/2688352675_773e74672f.jpg to data/model_test_images_split/test/anvil/2688352675_773e74672f.jpg\n",
      "Copying: data/model_test_images/anvil/90659615_70a0040893.jpg to data/model_test_images_split/test/anvil/90659615_70a0040893.jpg\n",
      "Copying: data/model_test_images/anvil/3402428238_130149e13f.jpg to data/model_test_images_split/test/anvil/3402428238_130149e13f.jpg\n"
     ]
    }
   ],
   "source": [
    "# Create a function to move images\n",
    "from shutil import copy2\n",
    "data_dir = \"data/model_test_images\"\n",
    "target_dir = \"data/model_test_images_split\"\n",
    "for image_dir in os.listdir(data_dir):\n",
    "  for split_dir in [\"train\", \"test\"]:\n",
    "    os.makedirs(os.path.join(target_dir, split_dir, image_dir), exist_ok=True)\n",
    "\n",
    "  # Make training and test lists of target images\n",
    "  train_image_list, test_image_list = create_train_test_list(os.path.join(data_dir, image_dir))\n",
    "\n",
    "  # Copy training images\n",
    "  copy_images_to_file(img_path_list=train_image_list, \n",
    "                      target_dir=target_dir, \n",
    "                      train=True)\n",
    "\n",
    "  # Copy testing images\n",
    "  copy_images_to_file(img_path_list=test_image_list, \n",
    "                      target_dir=target_dir, \n",
    "                      train=False)"
   ]
  },
  {
   "cell_type": "code",
   "execution_count": 305,
   "metadata": {},
   "outputs": [],
   "source": [
    "# Next\n",
    "# Make model datasets from train/test folders\n",
    "# Build model on train/test datasets\n",
    "# Evaluate model\n",
    "# Convert model to tflite for deployment..."
   ]
  },
  {
   "cell_type": "markdown",
   "metadata": {},
   "source": [
    "## Load data"
   ]
  },
  {
   "cell_type": "code",
   "execution_count": 374,
   "metadata": {},
   "outputs": [],
   "source": [
    "import tensorflow as tf\n",
    "tf.get_logger().setLevel('INFO')"
   ]
  },
  {
   "cell_type": "code",
   "execution_count": 375,
   "metadata": {},
   "outputs": [
    {
     "data": {
      "text/plain": [
       "('data/train', 'data/test')"
      ]
     },
     "execution_count": 375,
     "metadata": {},
     "output_type": "execute_result"
    }
   ],
   "source": [
    "train_dir = \"data/train\"\n",
    "test_dir = \"data/test\"\n",
    "train_dir, test_dir"
   ]
  },
  {
   "cell_type": "code",
   "execution_count": 376,
   "metadata": {},
   "outputs": [
    {
     "name": "stdout",
     "output_type": "stream",
     "text": [
      "Found 40809 files belonging to 2 classes.\n",
      "Found 10230 files belonging to 2 classes.\n"
     ]
    },
    {
     "data": {
      "text/plain": [
       "(<BatchDataset shapes: ((None, 224, 224, 3), (None,)), types: (tf.float32, tf.int32)>,\n",
       " <BatchDataset shapes: ((None, 224, 224, 3), (None,)), types: (tf.float32, tf.int32)>)"
      ]
     },
     "execution_count": 376,
     "metadata": {},
     "output_type": "execute_result"
    }
   ],
   "source": [
    "# Load in data\n",
    "train_data = tf.keras.preprocessing.image_dataset_from_directory(train_dir,\n",
    "    batch_size=32,\n",
    "    image_size=(224, 224)\n",
    ")\n",
    "\n",
    "test_data = tf.keras.preprocessing.image_dataset_from_directory(test_dir,\n",
    "    batch_size=32,\n",
    "    image_size=(224, 224)\n",
    ")\n",
    "\n",
    "train_data, test_data"
   ]
  },
  {
   "cell_type": "code",
   "execution_count": 390,
   "metadata": {},
   "outputs": [
    {
     "data": {
      "text/plain": [
       "(2, 2035, 38950)"
      ]
     },
     "execution_count": 390,
     "metadata": {},
     "output_type": "execute_result"
    }
   ],
   "source": [
    "total_samples = len(os.listdir(train_dir))\n",
    "num_food_samples = len(os.listdir(os.path.join(train_dir, \"food_images\")))\n",
    "num_non_food_samples = len(os.listdir(os.path.join(train_dir, \"non_food_images\")))\n",
    "total_samples, num_food_samples, num_non_food_samples"
   ]
  },
  {
   "cell_type": "code",
   "execution_count": 392,
   "metadata": {},
   "outputs": [
    {
     "data": {
      "text/plain": [
       "(0.0004914004914004914, 2.5673940949935817e-05)"
      ]
     },
     "execution_count": 392,
     "metadata": {},
     "output_type": "execute_result"
    }
   ],
   "source": [
    "(1 / num_food_samples) * (total_samples / 2.0), (1 / num_non_food_samples) * (total_samples / 2.0)"
   ]
  },
  {
   "cell_type": "code",
   "execution_count": 391,
   "metadata": {},
   "outputs": [
    {
     "name": "stdout",
     "output_type": "stream",
     "text": [
      "Weight for class 0: 0.00\n",
      "Weight for class 1: 0.00\n"
     ]
    }
   ],
   "source": [
    "# Since we have a data imbalance let's get class weights\n",
    "\n",
    "# See: https://www.tensorflow.org/tutorials/structured_data/imbalanced_data#calculate_class_weights\n",
    "# Scaling by total/2 helps keep the loss to a similar magnitude.\n",
    "# The sum of the weights of all examples stays the same.\n",
    "weight_for_0 = (1 / num_food_samples) * (total_samples / 2.0)\n",
    "weight_for_1 = (1 / num_non_food_samples) * (total_samples / 2.0)\n",
    "\n",
    "class_weight = {0: weight_for_0, 1: weight_for_1}\n",
    "\n",
    "print('Weight for class 0: {weight_for_0}')\n",
    "print('Weight for class 1: {weight_for_1}')"
   ]
  },
  {
   "cell_type": "code",
   "execution_count": 377,
   "metadata": {},
   "outputs": [
    {
     "data": {
      "text/plain": [
       "['food_images', 'non_food_images']"
      ]
     },
     "execution_count": 377,
     "metadata": {},
     "output_type": "execute_result"
    }
   ],
   "source": [
    "train_data.class_names"
   ]
  },
  {
   "cell_type": "code",
   "execution_count": 378,
   "metadata": {},
   "outputs": [],
   "source": [
    "train_data = train_data.prefetch(tf.data.AUTOTUNE)\n",
    "test_data = test_data.prefetch(tf.data.AUTOTUNE)"
   ]
  },
  {
   "cell_type": "markdown",
   "metadata": {},
   "source": [
    "## Build the first model"
   ]
  },
  {
   "cell_type": "code",
   "execution_count": 379,
   "metadata": {},
   "outputs": [],
   "source": [
    "base_model = tf.keras.applications.EfficientNetB0(include_top=False)\n",
    "\n",
    "# Make model untrainable\n",
    "base_model.trainable = False\n",
    "\n",
    "# Build a functional model\n",
    "input_layer = tf.keras.layers.Input(shape=(224, 224, 3))\n",
    "x = base_model(input_layer)\n",
    "x = tf.keras.layers.GlobalAveragePooling2D()(x)\n",
    "output_layer = tf.keras.layers.Dense(1, activation=\"sigmoid\")(x)\n",
    "\n",
    "# Construct model\n",
    "model_1 = tf.keras.Model(input_layer, output_layer, name=\"EfficientNetB0-V1\")"
   ]
  },
  {
   "cell_type": "code",
   "execution_count": 380,
   "metadata": {},
   "outputs": [
    {
     "data": {
      "image/png": "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",
      "text/plain": [
       "<IPython.core.display.Image object>"
      ]
     },
     "execution_count": 380,
     "metadata": {},
     "output_type": "execute_result"
    }
   ],
   "source": [
    "tf.keras.utils.plot_model(model_1, show_shapes=True)"
   ]
  },
  {
   "cell_type": "code",
   "execution_count": 381,
   "metadata": {},
   "outputs": [],
   "source": [
    "# Compile model\n",
    "model_1.compile(loss=tf.keras.losses.BinaryCrossentropy(),\n",
    "    optimizer=tf.keras.optimizers.Adam(),\n",
    "    metrics=[\"accuracy\"]\n",
    ")"
   ]
  },
  {
   "cell_type": "code",
   "execution_count": 382,
   "metadata": {},
   "outputs": [],
   "source": [
    "# Create EarlyStopping callback and TensorBoard callback\n",
    "early_stopping = tf.keras.callbacks.EarlyStopping(patience=5,\n",
    "    monitor=\"val_loss\"\n",
    ")"
   ]
  },
  {
   "cell_type": "code",
   "execution_count": 393,
   "metadata": {},
   "outputs": [
    {
     "data": {
      "text/html": [
       "Finishing last run (ID:1bz9kusk) before initializing another..."
      ],
      "text/plain": [
       "<IPython.core.display.HTML object>"
      ]
     },
     "metadata": {},
     "output_type": "display_data"
    },
    {
     "data": {
      "text/html": [
       "<br/>Waiting for W&B process to finish, PID 72513... <strong style=\"color:green\">(success).</strong>"
      ],
      "text/plain": [
       "<IPython.core.display.HTML object>"
      ]
     },
     "metadata": {},
     "output_type": "display_data"
    },
    {
     "data": {
      "application/vnd.jupyter.widget-view+json": {
       "model_id": "1b89ecc2df2f455893f3f5546fa960a2",
       "version_major": 2,
       "version_minor": 0
      },
      "text/plain": [
       "VBox(children=(Label(value=' 0.93MB of 0.93MB uploaded (0.00MB deduped)\\r'), FloatProgress(value=1.0, max=1.0)…"
      ]
     },
     "metadata": {},
     "output_type": "display_data"
    },
    {
     "data": {
      "text/html": [
       "<style>\n",
       "    table.wandb td:nth-child(1) { padding: 0 10px; text-align: right }\n",
       "    .wandb-row { display: flex; flex-direction: row; flex-wrap: wrap; width: 100% }\n",
       "    .wandb-col { display: flex; flex-direction: column; flex-basis: 100%; flex: 1; padding: 10px; }\n",
       "    </style>\n",
       "<div class=\"wandb-row\"><div class=\"wandb-col\">\n",
       "<h3>Run history:</h3><br/><table class=\"wandb\"><tr><td>global_step</td><td>▁▂▄▄▅▅▇▇██</td></tr><tr><td>train/epoch_accuracy</td><td>▁▅▆▇█</td></tr><tr><td>train/epoch_loss</td><td>█▃▂▂▁</td></tr><tr><td>train/global_step</td><td>▁▁▃▅▆█</td></tr><tr><td>validation/epoch_accuracy</td><td>▁▅▇█▇</td></tr><tr><td>validation/epoch_loss</td><td>█▄▂▁▁</td></tr><tr><td>validation/evaluation_accuracy_vs_iterations</td><td>▁▅▇█▇</td></tr><tr><td>validation/evaluation_loss_vs_iterations</td><td>█▄▂▁▁</td></tr><tr><td>validation/global_step</td><td>▁█▁▁▁▁</td></tr></table><br/></div><div class=\"wandb-col\">\n",
       "<h3>Run summary:</h3><br/><table class=\"wandb\"><tr><td>global_step</td><td>6380</td></tr><tr><td>train/epoch_accuracy</td><td>0.95356</td></tr><tr><td>train/epoch_loss</td><td>0.14142</td></tr><tr><td>train/global_step</td><td>4</td></tr><tr><td>validation/epoch_accuracy</td><td>0.95161</td></tr><tr><td>validation/epoch_loss</td><td>0.14485</td></tr><tr><td>validation/evaluation_accuracy_vs_iterations</td><td>0.95161</td></tr><tr><td>validation/evaluation_loss_vs_iterations</td><td>0.14485</td></tr><tr><td>validation/global_step</td><td>4</td></tr></table>\n",
       "</div></div>\n",
       "Synced 6 W&B file(s), 0 media file(s), 0 artifact file(s) and 2 other file(s)\n",
       "<br/>Synced <strong style=\"color:#cdcd00\">confused-butterfly-14</strong>: <a href=\"https://wandb.ai/parthamehta/food-not-food-fullstack-ml-app/runs/1bz9kusk\" target=\"_blank\">https://wandb.ai/parthamehta/food-not-food-fullstack-ml-app/runs/1bz9kusk</a><br/>\n",
       "Find logs at: <code>./wandb/run-20211231_201531-1bz9kusk/logs</code><br/>\n"
      ],
      "text/plain": [
       "<IPython.core.display.HTML object>"
      ]
     },
     "metadata": {},
     "output_type": "display_data"
    },
    {
     "data": {
      "text/html": [
       "Successfully finished last run (ID:1bz9kusk). Initializing new run:<br/>"
      ],
      "text/plain": [
       "<IPython.core.display.HTML object>"
      ]
     },
     "metadata": {},
     "output_type": "display_data"
    },
    {
     "data": {
      "text/html": [
       "\n",
       "                    Syncing run <strong><a href=\"https://wandb.ai/parthamehta/food-not-food-fullstack-ml-app/runs/28ybxe2c\" target=\"_blank\">leafy-cosmos-15</a></strong> to <a href=\"https://wandb.ai/parthamehta/food-not-food-fullstack-ml-app\" target=\"_blank\">Weights & Biases</a> (<a href=\"https://docs.wandb.com/integrations/jupyter.html\" target=\"_blank\">docs</a>).<br/>\n",
       "\n",
       "                "
      ],
      "text/plain": [
       "<IPython.core.display.HTML object>"
      ]
     },
     "metadata": {},
     "output_type": "display_data"
    },
    {
     "name": "stderr",
     "output_type": "stream",
     "text": [
      "\u001b[34m\u001b[1mwandb\u001b[0m: \u001b[33mWARNING\u001b[0m When using several event log directories, please call wandb.tensorboard.patch(root_logdir=\"...\") before wandb.init\n"
     ]
    },
    {
     "name": "stdout",
     "output_type": "stream",
     "text": [
      "Saving TensorBoard log files to: logs/EfficientNetB0-V1/20211231-233644\n"
     ]
    },
    {
     "name": "stderr",
     "output_type": "stream",
     "text": [
      "/usr/local/Caskroom/miniforge/base/lib/python3.8/site-packages/keras/engine/functional.py:1410: CustomMaskWarning: Custom mask layers require a config and must override get_config. When loading, the custom mask layer must be passed to the custom_objects argument.\n",
      "  layer_config = serialize_layer_fn(layer)\n"
     ]
    },
    {
     "name": "stdout",
     "output_type": "stream",
     "text": [
      "Epoch 1/5\n",
      "1276/1276 [==============================] - ETA: 0s - loss: 3.6315e-05 - accuracy: 0.9532"
     ]
    },
    {
     "name": "stderr",
     "output_type": "stream",
     "text": [
      "\u001b[34m\u001b[1mwandb\u001b[0m: \u001b[33mWARNING\u001b[0m When using several event log directories, please call wandb.tensorboard.patch(root_logdir=\"...\") before wandb.init\n"
     ]
    },
    {
     "name": "stdout",
     "output_type": "stream",
     "text": [
      "1276/1276 [==============================] - 1847s 1s/step - loss: 3.6315e-05 - accuracy: 0.9532 - val_loss: 0.1520 - val_accuracy: 0.9496\n",
      "Epoch 2/5\n",
      "1276/1276 [==============================] - 1843s 1s/step - loss: 3.6053e-05 - accuracy: 0.9522 - val_loss: 0.1539 - val_accuracy: 0.9492\n",
      "Epoch 3/5\n",
      "1276/1276 [==============================] - 1762s 1s/step - loss: 3.5046e-05 - accuracy: 0.9508 - val_loss: 0.1579 - val_accuracy: 0.9475\n",
      "Epoch 4/5\n",
      "1276/1276 [==============================] - 1745s 1s/step - loss: 3.2889e-05 - accuracy: 0.9494 - val_loss: 0.1666 - val_accuracy: 0.9442\n",
      "Epoch 5/5\n",
      "1276/1276 [==============================] - 1827s 1s/step - loss: 3.0784e-05 - accuracy: 0.9449 - val_loss: 0.1862 - val_accuracy: 0.9361\n"
     ]
    }
   ],
   "source": [
    "# Fit model\n",
    "import wandb\n",
    "# wandb.tensorboard.patch(root_logdir=\"logs/\")\n",
    "wandb.init(project=\"food-not-food-fullstack-ml-app\", entity=\"parthamehta\", sync_tensorboard=True)\n",
    "history_1 = model_1.fit(train_data,\n",
    "                        epochs=5,\n",
    "                        validation_data=test_data,\n",
    "                        callbacks=[early_stopping, \n",
    "                                   create_tensorboard_callback(\"logs\", model_1.name)],\n",
    "                        class_weight=class_weight) # adjust for different number of classes..."
   ]
  },
  {
   "cell_type": "code",
   "execution_count": 394,
   "metadata": {},
   "outputs": [
    {
     "name": "stdout",
     "output_type": "stream",
     "text": [
      "320/320 [==============================] - 372s 1s/step - loss: 0.1862 - accuracy: 0.9361\n"
     ]
    },
    {
     "data": {
      "text/plain": [
       "[0.18616671860218048, 0.9360703825950623]"
      ]
     },
     "execution_count": 394,
     "metadata": {},
     "output_type": "execute_result"
    }
   ],
   "source": [
    "model_1.evaluate(test_data)"
   ]
  },
  {
   "cell_type": "code",
   "execution_count": 398,
   "metadata": {},
   "outputs": [
    {
     "data": {
      "text/plain": [
       "(2035, 38950)"
      ]
     },
     "execution_count": 398,
     "metadata": {},
     "output_type": "execute_result"
    }
   ],
   "source": [
    "len(os.listdir(\"data/train/food_images/\")), len(os.listdir(\"data/train/non_food_images/\"))"
   ]
  },
  {
   "cell_type": "markdown",
   "metadata": {},
   "source": [
    "## Save Model"
   ]
  },
  {
   "cell_type": "code",
   "execution_count": 399,
   "metadata": {},
   "outputs": [
    {
     "name": "stdout",
     "output_type": "stream",
     "text": [
      "INFO:tensorflow:Assets written to: food_not_food_model_v1/assets\n"
     ]
    },
    {
     "name": "stderr",
     "output_type": "stream",
     "text": [
      "/usr/local/Caskroom/miniforge/base/lib/python3.8/site-packages/keras/engine/functional.py:1410: CustomMaskWarning: Custom mask layers require a config and must override get_config. When loading, the custom mask layer must be passed to the custom_objects argument.\n",
      "  layer_config = serialize_layer_fn(layer)\n",
      "/usr/local/Caskroom/miniforge/base/lib/python3.8/site-packages/keras/saving/saved_model/layer_serialization.py:112: CustomMaskWarning: Custom mask layers require a config and must override get_config. When loading, the custom mask layer must be passed to the custom_objects argument.\n",
      "  return generic_utils.serialize_keras_object(obj)\n"
     ]
    }
   ],
   "source": [
    "model_1.save(\"food_not_food_model_v1\")"
   ]
  },
  {
   "cell_type": "markdown",
   "metadata": {},
   "source": [
    "## Convert Model to TFLite for Deployment"
   ]
  },
  {
   "cell_type": "code",
   "execution_count": 400,
   "metadata": {},
   "outputs": [],
   "source": [
    "# Convert the model\n",
    "saved_model_dir = \"food_not_food_model_v1\"\n",
    "converter = tf.lite.TFLiteConverter.from_saved_model(saved_model_dir) # path to the SavedModel directory\n",
    "tflite_model = converter.convert()\n",
    "\n",
    "# Save the model.\n",
    "with open('food_not_food_model_v1.tflite', 'wb') as f:\n",
    "  f.write(tflite_model)"
   ]
  },
  {
   "cell_type": "markdown",
   "metadata": {},
   "source": [
    "## Test run TFLite model"
   ]
  },
  {
   "cell_type": "code",
   "execution_count": 401,
   "metadata": {},
   "outputs": [
    {
     "name": "stdout",
     "output_type": "stream",
     "text": [
      "[[0.86908144]]\n"
     ]
    }
   ],
   "source": [
    "import numpy as np\n",
    "import tensorflow as tf\n",
    "\n",
    "# Load the TFLite model and allocate tensors.\n",
    "interpreter = tf.lite.Interpreter(model_path=\"food_not_food_model_v1.tflite\")\n",
    "interpreter.allocate_tensors()\n",
    "\n",
    "# Get input and output tensors.\n",
    "input_details = interpreter.get_input_details()\n",
    "output_details = interpreter.get_output_details()\n",
    "\n",
    "# Test the model on random input data.\n",
    "input_shape = input_details[0]['shape']\n",
    "input_data = np.array(np.random.random_sample(input_shape), dtype=np.float32)\n",
    "interpreter.set_tensor(input_details[0]['index'], input_data)\n",
    "\n",
    "interpreter.invoke()\n",
    "\n",
    "# The function `get_tensor()` returns a copy of the tensor data.\n",
    "# Use `tensor()` in order to get a pointer to the tensor.\n",
    "output_data = interpreter.get_tensor(output_details[0]['index'])\n",
    "print(output_data)"
   ]
  },
  {
   "cell_type": "code",
   "execution_count": 402,
   "metadata": {},
   "outputs": [
    {
     "data": {
      "text/plain": [
       "[{'name': 'serving_default_input_47:0',\n",
       "  'index': 0,\n",
       "  'shape': array([  1, 224, 224,   3], dtype=int32),\n",
       "  'shape_signature': array([ -1, 224, 224,   3], dtype=int32),\n",
       "  'dtype': numpy.float32,\n",
       "  'quantization': (0.0, 0),\n",
       "  'quantization_parameters': {'scales': array([], dtype=float32),\n",
       "   'zero_points': array([], dtype=int32),\n",
       "   'quantized_dimension': 0},\n",
       "  'sparsity_parameters': {}}]"
      ]
     },
     "execution_count": 402,
     "metadata": {},
     "output_type": "execute_result"
    }
   ],
   "source": [
    "input_details"
   ]
  }
 ],
 "metadata": {
  "interpreter": {
   "hash": "aee8b7b246df8f9039afb4144a1f6fd8d2ca17a180786b69acc140d282b71a49"
  },
  "kernelspec": {
   "display_name": "Python 3.9.8 64-bit",
   "language": "python",
   "name": "python3"
  },
  "language_info": {
   "codemirror_mode": {
    "name": "ipython",
    "version": 3
   },
   "file_extension": ".py",
   "mimetype": "text/x-python",
   "name": "python",
   "nbconvert_exporter": "python",
   "pygments_lexer": "ipython3",
   "version": "3.8.12"
  },
  "orig_nbformat": 4
 },
 "nbformat": 4,
 "nbformat_minor": 2
}
